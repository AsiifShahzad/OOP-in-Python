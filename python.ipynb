{
 "cells": [
  {
   "cell_type": "markdown",
   "metadata": {},
   "source": [
    "# Why OOP\n",
    "We use Object-Oriented Programming (OOP) to structure code efficiently by encapsulating data and behavior into objects.We use OOP to divide a large system into classes, allowing different developers to work on separate parts independently, improving collaboration and maintainability. It ensures reusability (inheritance), modularity (encapsulation), flexibility (polymorphism), and abstraction, making complex systems scalable, reducing redundancy, and simplifying updates."
   ]
  },
  {
   "cell_type": "markdown",
   "metadata": {},
   "source": [
    "# Basics classes and objects\n",
    "A class is a blueprint or template, while an object is an instance of that class.\n",
    "\n",
    "Real-Life Example:\n",
    "A Car is a class (defines attributes like color, model, and behavior like drive, brake).\n",
    "A specific Toyota Corolla is an object (has a red color, 2023 model, and can perform actions like driving).\n"
   ]
  },
  {
   "cell_type": "code",
   "execution_count": 25,
   "metadata": {},
   "outputs": [
    {
     "name": "stdout",
     "output_type": "stream",
     "text": [
      "Brand: Toyota, Speed: 200 km/h\n",
      "Car Toyota is destroyed.\n"
     ]
    }
   ],
   "source": [
    "class Car:\n",
    "    def __init__(self, brand, speed):\n",
    "        self.brand = brand\n",
    "        self.speed = speed\n",
    "\n",
    "    def display(self):\n",
    "        print(f\"Brand: {self.brand}, Speed: {self.speed} km/h\")\n",
    "\n",
    "    def __del__(self):\n",
    "        print(f\"Car {self.brand} is destroyed.\")\n",
    "\n",
    "# Object creation\n",
    "car1 = Car(\"Toyota\", 200)\n",
    "car1.display()\n",
    "\n",
    "# Explicitly deleting the object to trigger destructor\n",
    "del car1\n"
   ]
  },
  {
   "cell_type": "markdown",
   "metadata": {},
   "source": [
    "# Encapsulation\n",
    "Encapsulation is the concept of hiding data within a class and restricting direct access to it. It ensures data security, modularity, and controlled modification through getter and setter methods.\n",
    "\n",
    "In python we use double underscore for private and single underscore for protected members. Private memebers cant be accessed outside the class but protected members can be accessed in the subclass or inherited class.\n",
    "\n",
    "Real-Life Example:\n",
    "A bank account class hides the balance and only allows deposits and withdrawals through methods."
   ]
  },
  {
   "cell_type": "code",
   "execution_count": 9,
   "metadata": {},
   "outputs": [
    {
     "name": "stdout",
     "output_type": "stream",
     "text": [
      "Balance: $ 1500\n"
     ]
    }
   ],
   "source": [
    "class BankAccount:\n",
    "    def __init__(self, initial_balance):\n",
    "        self.__balance = initial_balance  # Private variable (double underscore)\n",
    "\n",
    "    def deposit(self, amount):\n",
    "        self.__balance += amount\n",
    "\n",
    "    def get_balance(self):\n",
    "        return self.__balance\n",
    "\n",
    "acc = BankAccount(1000)\n",
    "acc.deposit(500)\n",
    "print(\"Balance: $\", acc.get_balance())\n",
    "\n",
    "#print(acc.__balance)  # AttributeError! Private variable\n"
   ]
  },
  {
   "cell_type": "markdown",
   "metadata": {},
   "source": [
    "# Inheritance\n",
    "Inheritance allows a class (child/subclass) to reuse and extend properties and methods from another class (parent/superclass). This promotes code reusability in large systems.\n",
    "\n",
    "Real-Life Example\n",
    "A Vehicle class has common attributes like speed and fuel. A Car class inherits these but adds features like air conditioning."
   ]
  },
  {
   "cell_type": "code",
   "execution_count": null,
   "metadata": {},
   "outputs": [
    {
     "name": "stdout",
     "output_type": "stream",
     "text": [
      "Brand: Toyota, Speed: 180 km/h\n",
      "Air Conditioning: True\n"
     ]
    }
   ],
   "source": [
    "# Parent class\n",
    "class Vehicle:\n",
    "    def __init__(self, brand, speed):\n",
    "        self.brand = brand\n",
    "        self.speed = speed\n",
    "\n",
    "    def show_info(self):\n",
    "        print(f\"Brand: {self.brand}, Speed: {self.speed} km/h\")\n",
    "\n",
    "# Child class inheriting from Vehicle\n",
    "class Car(Vehicle):\n",
    "    def __init__(self, brand, speed, air_conditioning):\n",
    "        super().__init__(brand, speed)  # Call parent constructor\n",
    "        #In the above we do not use self because super() Automatically Refers to the Parent Class\n",
    "\n",
    "        self.air_conditioning = air_conditioning\n",
    "\n",
    "    def show_car_info(self):\n",
    "        self.show_info()  # Reusing parent method\n",
    "\n",
    "        # here if we use same name of display function for both classes that it stuck into recursion\n",
    "        \n",
    "        print(f\"Air Conditioning: {self.air_conditioning}\")\n",
    "\n",
    "# Creating an object\n",
    "car1 = Car(\"Toyota\", 180, True)\n",
    "car1.show_car_info()\n"
   ]
  },
  {
   "cell_type": "markdown",
   "metadata": {},
   "source": [
    "Partially Inheriting Parent Properties"
   ]
  },
  {
   "cell_type": "code",
   "execution_count": null,
   "metadata": {},
   "outputs": [],
   "source": [
    "class Parent:\n",
    "    def __init__(self, common_attr, extra_attr):\n",
    "        self.common_attr = common_attr\n",
    "        self.extra_attr = extra_attr\n",
    "\n",
    "class Child(Parent):\n",
    "    def __init__(self, common_attr):  \n",
    "        super().__init__(common_attr, None)  # Ignores `extra_attr`\n",
    "\n",
    "obj = Child(\"Only needed property\")\n",
    "print(obj.common_attr)  # ✅ Allowed\n",
    "# print(obj.extra_attr)  # ❌ Not inherited"
   ]
  },
  {
   "cell_type": "markdown",
   "metadata": {},
   "source": [
    "# Polymorphasim\n",
    "Polymorphism means \"one interface, multiple implementations.\" It allows the same function/method name to behave differently depending on the object calling it.\n",
    "\n",
    "🔹 Real-Life Example\n",
    "A single remote button can turn ON/OFF different devices (TV, AC, Fan) based on the object it interacts with.\n",
    "\n",
    "🔹 Types of Polymorphism in Python\n",
    "\n",
    "1️⃣ Method Overriding (Runtime/dynamic Polymorphism)\n",
    "\n",
    "2️⃣ Method Overloading (Not native in Python, but achieved using default/variable arguments)"
   ]
  },
  {
   "cell_type": "markdown",
   "metadata": {},
   "source": [
    "🔸 1. Method Overriding (Runtime Polymorphism)\n",
    "\n",
    "✅ Child class redefines a method from the parent class.\n",
    "\n",
    "✅ Decided at runtime."
   ]
  },
  {
   "cell_type": "code",
   "execution_count": null,
   "metadata": {},
   "outputs": [
    {
     "name": "stdout",
     "output_type": "stream",
     "text": [
      "class square\n"
     ]
    }
   ],
   "source": [
    "class Vehicle:\n",
    "    def move(self):\n",
    "        print(\"The vehicle moves\")\n",
    "\n",
    "class Car(Vehicle):\n",
    "    def move(self):\n",
    "        print(\"The car drives on the road\")\n",
    "\n",
    "class Boat(Vehicle):\n",
    "    def move(self):\n",
    "        print(\"The boat sails on water\")\n",
    "\n",
    "# Polymorphism in action\n",
    "vehicles = [Car(), Boat()]\n",
    "\n",
    "for v in vehicles:\n",
    "    v.move()  \n"
   ]
  },
  {
   "cell_type": "markdown",
   "metadata": {},
   "source": [
    "🔸 2. Method Overloading (Compile-Time Polymorphism)\n",
    "\n",
    "✅ Python does not support true method overloading, but we can achieve it using default parameters or *args."
   ]
  },
  {
   "cell_type": "code",
   "execution_count": 32,
   "metadata": {},
   "outputs": [
    {
     "name": "stdout",
     "output_type": "stream",
     "text": [
      "15\n",
      "30\n"
     ]
    }
   ],
   "source": [
    "class Calculator:\n",
    "    def add(self, a, b, c=0):  # Default argument for overloading\n",
    "        return a + b + c\n",
    "# if we overload function like make another function with 3 parameters than it dont work in python (but it is supported in c++)\n",
    "calc = Calculator()\n",
    "print(calc.add(5, 10))     # Calls add(a, b)\n",
    "print(calc.add(5, 10, 15)) # Calls add(a, b, c)\n"
   ]
  },
  {
   "cell_type": "markdown",
   "metadata": {},
   "source": [
    "✅ Another Approach (Using *args)\n",
    "\n",
    "Use variable-length arguments (*args) for more flexibility:"
   ]
  },
  {
   "cell_type": "code",
   "execution_count": null,
   "metadata": {},
   "outputs": [
    {
     "name": "stdout",
     "output_type": "stream",
     "text": [
      "15\n",
      "30\n"
     ]
    }
   ],
   "source": [
    "class Calculator:\n",
    "    def add(self, *args):\n",
    "         print(sum(args))\n",
    "\n",
    "calc = Calculator()\n",
    "calc.add(5, 10)       # Calls add(a, b)\n",
    "calc.add(5, 10, 15)  # Calls add(a, b, c)"
   ]
  },
  {
   "cell_type": "markdown",
   "metadata": {},
   "source": [
    "# Diamond Problem\n",
    "How Python Solves It?\n",
    "Python does not have diamond problem it uses MRO (Method Resolution Order) to determine which method to call.\n",
    "\n",
    "It follows C3 Linearization (Depth-First, Left-to-Right, but without duplication)."
   ]
  },
  {
   "cell_type": "code",
   "execution_count": 28,
   "metadata": {},
   "outputs": [
    {
     "name": "stdout",
     "output_type": "stream",
     "text": [
      "class square\n"
     ]
    }
   ],
   "source": [
    "class shape:\n",
    "    def display(self):\n",
    "        print(\"class shape\")\n",
    "\n",
    "class circle(shape):\n",
    "    def display(self):\n",
    "        print(\"class circle\")\n",
    "\n",
    "class square(shape):\n",
    "    def display(self):\n",
    "        print(\"class square\")\n",
    "\n",
    "class cylinder(square,circle):\n",
    "    pass\n",
    "\n",
    "obj = cylinder()\n",
    "obj.display()  # Calls circle's display method\n"
   ]
  },
  {
   "cell_type": "markdown",
   "metadata": {},
   "source": [
    "# Abstraction\n",
    "Abstraction hides complex implementation details and only exposes essential features to the user.\n",
    "\n",
    "💡 Key Points:\n",
    "\n",
    "Achieved using abstract classes & methods (ABC and @abstractmethod).\n",
    "Focuses on what an object does, not how it does it.\n",
    "Used to enforce a contract for subclasses to follow.\n",
    "\n",
    "## Abstraction Methods in Python\n",
    "\n",
    "Abstract Class: Defined using ABC module.\n",
    "\n",
    "Abstract Method: Declared using @abstractmethod (must be implemented in subclasses).\n",
    "\n",
    "Concrete Method: Regular method inside an abstract class."
   ]
  },
  {
   "cell_type": "markdown",
   "metadata": {},
   "source": []
  },
  {
   "cell_type": "markdown",
   "metadata": {},
   "source": [
    "📌 What is an Abstract Class?\n",
    "An abstract class is like a blueprint. It defines the structure that all child classes must follow. You cannot create objects from it, but you can inherit from it and force child classes to implement specific methods.\n",
    "\n",
    "📌 Why Use an Abstract Class Instead of Just Inheritance?\n",
    "\n",
    "Inheritance only allows child classes to reuse code but does not force them to implement necessary methods.\n",
    "An abstract class ensures that all subclasses define required methods, preventing missing functionality.\n",
    "\n",
    "📌 Key Benefits of an Abstract Class\n",
    "\n",
    "✅ Forces structure → Every vehicle must have a fuel_type() method.\n",
    "✅ Prevents errors → If a class forgets to define a required method, Python will give an error.\n",
    "✅ Better code organization → Ensures consistency in all subclasses.\n",
    "✅ Reusable common code → We can define shared methods (like display_brand()) in the abstract class.\n",
    "\n",
    "📌 Why Not Just Use Inheritance?\n",
    "\n",
    "❌ Inheritance alone does not stop a subclass from missing important methods.\n",
    "❌ If a developer forgets to define fuel_type(), the program may crash at runtime instead of showing an error earlier.\n",
    "❌ Without abstraction, different subclasses might use different method names (get_fuel(), fuelType(), fuel_info()), causing inconsistency.\n",
    "\n",
    "Final Takeaway\n",
    "\n",
    "Use inheritance when you just want to reuse code.\n",
    "Use an abstract class when you need to enforce rules and consistency across subclasses. 🚀"
   ]
  },
  {
   "cell_type": "code",
   "execution_count": 38,
   "metadata": {},
   "outputs": [
    {
     "name": "stdout",
     "output_type": "stream",
     "text": [
      "Brand: Toyota\n",
      "Fuel Type: Petrol or Diesel\n",
      "Brand: Tesla\n",
      "Fuel Type: Electric\n"
     ]
    }
   ],
   "source": [
    "from abc import ABC, abstractmethod\n",
    "\n",
    "# Abstract Class\n",
    "class Vehicle(ABC):\n",
    "    def __init__(self, brand):\n",
    "        self.brand = brand\n",
    "\n",
    "    # Concrete method\n",
    "    def display_brand(self):\n",
    "        print(f\"Brand: {self.brand}\")\n",
    "\n",
    "    # Abstract method (must be implemented by subclasses)\n",
    "    @abstractmethod\n",
    "    def fuel_type(self):\n",
    "        pass  \n",
    "\n",
    "# Subclass implementing the abstract method\n",
    "class Car(Vehicle):\n",
    "    def fuel_type(self):\n",
    "        return \"Petrol or Diesel\"\n",
    "\n",
    "# Another subclass implementing the abstract method\n",
    "class ElectricCar(Vehicle):\n",
    "    def fuel_type(self):\n",
    "        return \"Electric\"\n",
    "\n",
    "# Creating objects\n",
    "car = Car(\"Toyota\")\n",
    "electric_car = ElectricCar(\"Tesla\")\n",
    "\n",
    "# Using the concrete method and abstract method\n",
    "car.display_brand()  \n",
    "print(\"Fuel Type:\", car.fuel_type())  \n",
    "\n",
    "electric_car.display_brand()  \n",
    "print(\"Fuel Type:\", electric_car.fuel_type())  \n"
   ]
  },
  {
   "cell_type": "markdown",
   "metadata": {},
   "source": [
    "### Why Use @abstractmethod?\n",
    "\n",
    "✅ Enforces Method Implementation → Subclasses must implement the method, preventing incomplete classes.\n",
    "\n",
    "✅ Prevents Instantiating Abstract Classes → Without it, the base class can be instantiated, which is against abstraction principles."
   ]
  },
  {
   "cell_type": "markdown",
   "metadata": {},
   "source": [
    "### Example Without Abstraction (Only Inheritance)"
   ]
  },
  {
   "cell_type": "code",
   "execution_count": 37,
   "metadata": {},
   "outputs": [
    {
     "name": "stdout",
     "output_type": "stream",
     "text": [
      "Brand: Toyota\n"
     ]
    },
    {
     "ename": "AttributeError",
     "evalue": "'Car' object has no attribute 'fuel_type'",
     "output_type": "error",
     "traceback": [
      "\u001b[31m---------------------------------------------------------------------------\u001b[39m",
      "\u001b[31mAttributeError\u001b[39m                            Traceback (most recent call last)",
      "\u001b[36mCell\u001b[39m\u001b[36m \u001b[39m\u001b[32mIn[37]\u001b[39m\u001b[32m, line 20\u001b[39m\n\u001b[32m     17\u001b[39m electric_car = ElectricCar(\u001b[33m\"\u001b[39m\u001b[33mTesla\u001b[39m\u001b[33m\"\u001b[39m)\n\u001b[32m     19\u001b[39m car.display_brand()\n\u001b[32m---> \u001b[39m\u001b[32m20\u001b[39m \u001b[38;5;28mprint\u001b[39m(\u001b[33m\"\u001b[39m\u001b[33mFuel Type:\u001b[39m\u001b[33m\"\u001b[39m, \u001b[43mcar\u001b[49m\u001b[43m.\u001b[49m\u001b[43mfuel_type\u001b[49m())  \u001b[38;5;66;03m# ❌ This will cause an error because Car has no fuel_type() method!\u001b[39;00m\n",
      "\u001b[31mAttributeError\u001b[39m: 'Car' object has no attribute 'fuel_type'"
     ]
    }
   ],
   "source": [
    "class Vehicle:\n",
    "    def __init__(self, brand):\n",
    "        self.brand = brand\n",
    "\n",
    "    def display_brand(self):\n",
    "        print(f\"Brand: {self.brand}\")\n",
    "\n",
    "class Car(Vehicle):  # Forgot to define fuel_type()\n",
    "    pass  \n",
    "\n",
    "class ElectricCar(Vehicle):\n",
    "    def fuel_type(self):\n",
    "        return \"Electric\"\n",
    "\n",
    "# Creating objects\n",
    "car = Car(\"Toyota\")\n",
    "electric_car = ElectricCar(\"Tesla\")\n",
    "\n",
    "car.display_brand()\n",
    "print(\"Fuel Type:\", car.fuel_type())  # ❌ This will cause an error because Car has no fuel_type() method!\n"
   ]
  },
  {
   "cell_type": "markdown",
   "metadata": {},
   "source": [
    "### Object: \n",
    "A general term for any entity created from a class.\n",
    "### Instance: \n",
    "A specific object of a specific class, emphasizing its connection to that class.\n",
    "### Real Example\n",
    "Class: Car\n",
    "Object: Any car created from Car class.\n",
    "Instance: car1 = Car(\"Toyota\") → A specific car (Toyota) from Car class.\n",
    "\n",
    "### Analogy:\n",
    "\n",
    "Object = Any car in the world.\n",
    "Instance = A specific Toyota Corolla in your garage."
   ]
  },
  {
   "cell_type": "markdown",
   "metadata": {},
   "source": [
    "# Python Execution Order\n",
    "Python first imports all modules at the top. Then, it moves down the script line by line. If it encounters a print statement or any other code that is not inside a function or class, it executes it immediately. However, if it encounters a function or class definition, it does not execute them immediately; instead, it registers them in memory so that when they are called later in the script, Python knows they exist. After registering functions and classes, Python continues executing any remaining statements. Now, if we have defined a main() function, it will be registered like any other function, but it won’t run automatically. If we call main() explicitly at the bottom of the script (usually inside if __name__ == \"__main__\":), then Python executes it just like any other function. This ensures that main() only runs when the script is executed directly and not when imported as a module."
   ]
  },
  {
   "cell_type": "code",
   "execution_count": null,
   "metadata": {},
   "outputs": [],
   "source": []
  }
 ],
 "metadata": {
  "kernelspec": {
   "display_name": "Python 3",
   "language": "python",
   "name": "python3"
  },
  "language_info": {
   "codemirror_mode": {
    "name": "ipython",
    "version": 3
   },
   "file_extension": ".py",
   "mimetype": "text/x-python",
   "name": "python",
   "nbconvert_exporter": "python",
   "pygments_lexer": "ipython3",
   "version": "3.12.1"
  }
 },
 "nbformat": 4,
 "nbformat_minor": 2
}
